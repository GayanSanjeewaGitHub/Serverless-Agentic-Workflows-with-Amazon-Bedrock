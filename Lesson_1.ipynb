{
 "cells": [
  {
   "cell_type": "markdown",
   "id": "d2a14d50-e547-4a6a-a1a5-e4c3d8a2d365",
   "metadata": {},
   "source": [
    "# Lesson 1: Your first agent with Amazon Bedrock"
   ]
  },
  {
   "cell_type": "markdown",
   "id": "c2af05f4-fd9f-4dab-b93a-701bd4aa915f",
   "metadata": {},
   "source": [
    "## Preparation \n",
    "<p style=\"background-color:#fff6ff; padding:15px; border-width:3px; border-color:#efe6ef; border-style:solid; border-radius:6px\"> 💻 &nbsp; <b>Access <code>requirements.txt</code> and <code>helper.py</code> and other files:</b> 1) click on the <em>\"File\"</em> option on the top menu of the notebook and then 2) click on <em>\"Open\"</em>. For more help, please see the <em>\"Appendix - Tips and Help\"</em> Lesson.</p>"
   ]
  },
  {
   "cell_type": "code",
   "execution_count": 1,
   "id": "2d2f9f93",
   "metadata": {
    "height": 183
   },
   "outputs": [
    {
     "name": "stdout",
     "output_type": "stream",
     "text": [
      "Resetting environment (if nessesary)\n",
      "Agent reset process completed.\n",
      "Lambda reset process completed.\n",
      "Guardrail reset process completed.\n",
      "Environment reset complete.\n"
     ]
    }
   ],
   "source": [
    "# Before you start, please run the following code to set up your environment.\n",
    "# This code will reset the environment (if needed) and prepare the resources for the lesson.\n",
    "# It does this by quickly running through all the code from the previous lessons.\n",
    "\n",
    "!sh ./ro_shared_data/reset.sh\n",
    "\n",
    "import os\n",
    "\n",
    "roleArn = os.environ['BEDROCKAGENTROLE']"
   ]
  },
  {
   "cell_type": "markdown",
   "id": "2f375ad5",
   "metadata": {},
   "source": [
    "## Start of the lesson"
   ]
  },
  {
   "cell_type": "code",
   "execution_count": 2,
   "id": "b4c0d8f2",
   "metadata": {
    "height": 30
   },
   "outputs": [],
   "source": [
    "import boto3"
   ]
  },
  {
   "cell_type": "code",
   "execution_count": 3,
   "id": "caeca35a",
   "metadata": {
    "height": 47
   },
   "outputs": [],
   "source": [
    "bedrock_agent = boto3.client(service_name='bedrock-agent', region_name='us-west-2')"
   ]
  },
  {
   "cell_type": "code",
   "execution_count": 4,
   "id": "337f1e4e",
   "metadata": {
    "height": 132
   },
   "outputs": [],
   "source": [
    "create_agent_response = bedrock_agent.create_agent(\n",
    "    agentName='mugs-customer-support-agent',\n",
    "    foundationModel='anthropic.claude-3-haiku-20240307-v1:0',\n",
    "    instruction=\"\"\"You are an advanced AI agent acting as a front line customer support agent.\"\"\",\n",
    "    agentResourceRoleArn=roleArn\n",
    ")"
   ]
  },
  {
   "cell_type": "code",
   "execution_count": 5,
   "id": "e55f7771",
   "metadata": {
    "height": 30
   },
   "outputs": [
    {
     "data": {
      "text/plain": [
       "{'ResponseMetadata': {'RequestId': 'a9f6042c-4a42-4936-bb52-948930c4495f',\n",
       "  'HTTPStatusCode': 202,\n",
       "  'HTTPHeaders': {'date': 'Sat, 19 Oct 2024 03:37:15 GMT',\n",
       "   'content-type': 'application/json',\n",
       "   'content-length': '562',\n",
       "   'connection': 'keep-alive',\n",
       "   'x-amzn-requestid': 'a9f6042c-4a42-4936-bb52-948930c4495f',\n",
       "   'x-amz-apigw-id': 'f4No1GS1PHcEmHg=',\n",
       "   'x-amzn-trace-id': 'Root=1-6713296b-34059ae713f1a2af384c8f90'},\n",
       "  'RetryAttempts': 0},\n",
       " 'agent': {'agentArn': 'arn:aws:bedrock:us-west-2:471112677410:agent/UDMKFTEARV',\n",
       "  'agentId': 'UDMKFTEARV',\n",
       "  'agentName': 'mugs-customer-support-agent',\n",
       "  'agentResourceRoleArn': 'arn:aws:iam::471112677410:role/c135316a3428926l8020517t1w47111267-BedrockAgentRole-h0fTp4prg5Mi',\n",
       "  'agentStatus': 'CREATING',\n",
       "  'createdAt': datetime.datetime(2024, 10, 19, 3, 37, 15, 519230, tzinfo=tzlocal()),\n",
       "  'foundationModel': 'anthropic.claude-3-haiku-20240307-v1:0',\n",
       "  'idleSessionTTLInSeconds': 600,\n",
       "  'instruction': 'You are an advanced AI agent acting as a front line customer support agent.',\n",
       "  'updatedAt': datetime.datetime(2024, 10, 19, 3, 37, 15, 519230, tzinfo=tzlocal())}}"
      ]
     },
     "execution_count": 5,
     "metadata": {},
     "output_type": "execute_result"
    }
   ],
   "source": [
    "create_agent_response"
   ]
  },
  {
   "cell_type": "code",
   "execution_count": 6,
   "id": "b98f87f9",
   "metadata": {
    "height": 47
   },
   "outputs": [],
   "source": [
    "agentId = create_agent_response['agent']['agentId']"
   ]
  },
  {
   "cell_type": "code",
   "execution_count": 7,
   "id": "b02f891d",
   "metadata": {
    "height": 30
   },
   "outputs": [],
   "source": [
    "from helper import *"
   ]
  },
  {
   "cell_type": "code",
   "execution_count": 8,
   "id": "c9ccf112",
   "metadata": {
    "height": 81
   },
   "outputs": [
    {
     "name": "stdout",
     "output_type": "stream",
     "text": [
      "Waiting for agent status of 'NOT_PREPARED'...\n",
      "Agent status: CREATING\n",
      "Agent status: NOT_PREPARED\n",
      "Agent reached 'NOT_PREPARED' status.\n"
     ]
    }
   ],
   "source": [
    "wait_for_agent_status(\n",
    "    agentId=agentId, \n",
    "    targetStatus='NOT_PREPARED'\n",
    ")"
   ]
  },
  {
   "cell_type": "code",
   "execution_count": 9,
   "id": "b0b58712",
   "metadata": {
    "height": 64
   },
   "outputs": [
    {
     "data": {
      "text/plain": [
       "{'ResponseMetadata': {'RequestId': 'de82dce5-72b9-4ac2-9e81-4d743f6a7c9b',\n",
       "  'HTTPStatusCode': 202,\n",
       "  'HTTPHeaders': {'date': 'Sat, 19 Oct 2024 03:37:19 GMT',\n",
       "   'content-type': 'application/json',\n",
       "   'content-length': '119',\n",
       "   'connection': 'keep-alive',\n",
       "   'x-amzn-requestid': 'de82dce5-72b9-4ac2-9e81-4d743f6a7c9b',\n",
       "   'x-amz-apigw-id': 'f4NphHmqPHcEAqg=',\n",
       "   'x-amzn-trace-id': 'Root=1-6713296f-5df4bbe54f482feb33589546'},\n",
       "  'RetryAttempts': 0},\n",
       " 'agentId': 'UDMKFTEARV',\n",
       " 'agentStatus': 'PREPARING',\n",
       " 'agentVersion': 'DRAFT',\n",
       " 'preparedAt': datetime.datetime(2024, 10, 19, 3, 37, 19, 919827, tzinfo=tzlocal())}"
      ]
     },
     "execution_count": 9,
     "metadata": {},
     "output_type": "execute_result"
    }
   ],
   "source": [
    "bedrock_agent.prepare_agent(\n",
    "    agentId=agentId\n",
    ")"
   ]
  },
  {
   "cell_type": "code",
   "execution_count": null,
   "id": "189180bd",
   "metadata": {
    "height": 81
   },
   "outputs": [
    {
     "name": "stdout",
     "output_type": "stream",
     "text": [
      "Waiting for agent status of 'PREPARED'...\n",
      "Agent status: PREPARING\n",
      "Agent status: PREPARED\n"
     ]
    }
   ],
   "source": [
    "wait_for_agent_status(\n",
    "    agentId=agentId, \n",
    "    targetStatus='PREPARED'\n",
    ")"
   ]
  },
  {
   "cell_type": "code",
   "execution_count": null,
   "id": "177fdca8",
   "metadata": {
    "height": 234
   },
   "outputs": [],
   "source": [
    "create_agent_alias_response = bedrock_agent.create_agent_alias(\n",
    "    agentId=agentId,\n",
    "    agentAliasName='MyAgentAlias',\n",
    ")\n",
    "\n",
    "agentAliasId = create_agent_alias_response['agentAlias']['agentAliasId']\n",
    "\n",
    "wait_for_agent_alias_status(\n",
    "    agentId=agentId,\n",
    "    agentAliasId=agentAliasId,\n",
    "    targetStatus='PREPARED'\n",
    ")"
   ]
  },
  {
   "cell_type": "code",
   "execution_count": null,
   "id": "000e1256",
   "metadata": {
    "height": 47
   },
   "outputs": [],
   "source": [
    "bedrock_agent_runtime = boto3.client(service_name='bedrock-agent-runtime', region_name='us-west-2')"
   ]
  },
  {
   "cell_type": "code",
   "execution_count": null,
   "id": "f41c3669",
   "metadata": {
    "height": 30
   },
   "outputs": [],
   "source": [
    "import uuid"
   ]
  },
  {
   "cell_type": "code",
   "execution_count": null,
   "id": "3b3ca486",
   "metadata": {
    "height": 234
   },
   "outputs": [],
   "source": [
    "message = \"Hello, I bought a mug from your store yesterday, and it broke. I want to return it.\"\n",
    "\n",
    "sessionId = str(uuid.uuid4())\n",
    "\n",
    "invoke_agent_response = bedrock_agent_runtime.invoke_agent(\n",
    "    agentId=agentId,\n",
    "    agentAliasId=agentAliasId,\n",
    "    inputText=message,\n",
    "    sessionId=sessionId,\n",
    "    endSession=False,\n",
    "    enableTrace=True,\n",
    ")"
   ]
  },
  {
   "cell_type": "code",
   "execution_count": null,
   "id": "25953b09",
   "metadata": {
    "height": 47
   },
   "outputs": [],
   "source": [
    "event_stream = invoke_agent_response[\"completion\"]"
   ]
  },
  {
   "cell_type": "code",
   "execution_count": null,
   "id": "36116ce1",
   "metadata": {
    "height": 47
   },
   "outputs": [],
   "source": [
    "for event in event_stream:\n",
    "    print(event)"
   ]
  },
  {
   "cell_type": "code",
   "execution_count": null,
   "id": "4678e87b",
   "metadata": {
    "height": 81
   },
   "outputs": [],
   "source": [
    "message = \"Hello, I bought a mug from your store yesterday, and it broke. I want to return it.\"\n",
    "\n",
    "sessionId = str(uuid.uuid4())"
   ]
  },
  {
   "cell_type": "code",
   "execution_count": null,
   "id": "fd9cbdfe",
   "metadata": {
    "height": 132
   },
   "outputs": [],
   "source": [
    "invoke_agent_and_print(\n",
    "    agentAliasId=agentAliasId,\n",
    "    agentId=agentId,\n",
    "    sessionId=sessionId,\n",
    "    inputText=message,\n",
    "    enableTrace=True,\n",
    ")"
   ]
  },
  {
   "cell_type": "code",
   "execution_count": null,
   "id": "70a5ed6d",
   "metadata": {
    "height": 30
   },
   "outputs": [],
   "source": []
  }
 ],
 "metadata": {
  "kernelspec": {
   "display_name": "Python 3 (ipykernel)",
   "language": "python",
   "name": "python3"
  },
  "language_info": {
   "codemirror_mode": {
    "name": "ipython",
    "version": 3
   },
   "file_extension": ".py",
   "mimetype": "text/x-python",
   "name": "python",
   "nbconvert_exporter": "python",
   "pygments_lexer": "ipython3",
   "version": "3.11.9"
  }
 },
 "nbformat": 4,
 "nbformat_minor": 5
}
